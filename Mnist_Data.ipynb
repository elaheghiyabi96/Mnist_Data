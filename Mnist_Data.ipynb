{
 "cells": [
  {
   "cell_type": "code",
   "execution_count": 3,
   "metadata": {},
   "outputs": [
    {
     "name": "stdout",
     "output_type": "stream",
     "text": [
      "Epoch 1/5\n",
      "60000/60000 [==============================] - 5s 86us/sample - loss: 0.2515 - acc: 0.9276\n",
      "Epoch 2/5\n",
      "60000/60000 [==============================] - 5s 86us/sample - loss: 0.1108 - acc: 0.9673\n",
      "Epoch 3/5\n",
      "60000/60000 [==============================] - 5s 83us/sample - loss: 0.0771 - acc: 0.9768\n",
      "Epoch 4/5\n",
      "60000/60000 [==============================] - 5s 84us/sample - loss: 0.0581 - acc: 0.9817\n",
      "Epoch 5/5\n",
      "60000/60000 [==============================] - ETA: 0s - loss: 0.0449 - acc: 0.986 - 5s 85us/sample - loss: 0.0451 - acc: 0.9862\n",
      "10000/10000 [==============================] - 1s 62us/sample - loss: 0.0849 - acc: 0.9726\n",
      "Test accuracy: 0.9726\n",
      "[6.0146326e-06 1.0332215e-04 9.9988484e-01 5.1157317e-06 3.9043740e-16\n",
      " 2.8614139e-07 2.8728843e-07 1.3435914e-12 2.1203269e-07 2.9881239e-15]\n",
      "Predicted label: 7\n",
      "True label: 7\n"
     ]
    },
    {
     "data": {
      "image/png": "[encoded data removed]",
      "text/plain": [
       "<Figure size 432x288 with 1 Axes>"
      ]
     },
     "metadata": {
      "needs_background": "light"
     },
     "output_type": "display_data"
    }
   ],
   "source": [
    "import tensorflow as tf  # Import TensorFlow library for deep learning\n",
    "from tensorflow.keras.datasets import mnist  # Import MNIST dataset from Keras\n",
    "(x_train, y_train), (x_test, y_test) = mnist.load_data()  # Load training and test data\n",
    "x_train, x_test = x_train / 255, x_test / 255  # Normalize pixel values to be between 0 and 1\n",
    "\n",
    "import matplotlib.pyplot as plt  # Import Matplotlib for plotting\n",
    "plt.imshow(x_train[0])  # Display the first training image\n",
    "\n",
    "from tensorflow import keras  # Import Keras API for building neural networks\n",
    "from tensorflow.keras import layers  # Import Keras layers for building the model\n",
    "\n",
    "# Define the neural network architecture\n",
    "model = keras.Sequential([ \n",
    "    layers.Flatten(input_shape=(28, 28)),  # Flatten the 28x28 image into a 1D array\n",
    "    layers.Dense(128, activation='relu'),  # Fully connected layer with 128 neurons and ReLU activation\n",
    "    layers.Dense(10, activation='softmax')  # Output layer with 10 neurons (one for each digit) and softmax activation\n",
    "])\n",
    "\n",
    "# Compile the model with optimizer, loss function, and evaluation metrics\n",
    "model.compile(optimizer='adam', \n",
    "              loss='sparse_categorical_crossentropy', \n",
    "              metrics=['accuracy'])\n",
    "\n",
    "# Train the model for 5 epochs using the training data\n",
    "model.fit(x_train, y_train, epochs=5)\n",
    "\n",
    "# Evaluate the model on the test data\n",
    "test_loss, test_acc = model.evaluate(x_test, y_test)\n",
    "print('Test accuracy:', test_acc)  # Print the accuracy on the test dataset\n",
    "\n",
    "# Make predictions on the test data\n",
    "predictions = model.predict(x_test)  \n",
    "print(predictions[1])  # Print the predictions for the second test image\n",
    "plt.imshow(x_test[1])  # Display the second test image\n",
    "\n",
    "# Predict the label of the first test image and compare with the true label\n",
    "predicted_label = model.predict(x_test[0].reshape(1, 28, 28))  # Reshape the first image and predict its label\n",
    "print(f\"Predicted label: {predicted_label.argmax()}\")  # Print the predicted label (index of highest probability)\n",
    "print(f\"True label: {y_test[0]}\")  # Print the true label of the first image\n"
   ]
  },
  {
   "cell_type": "code",
   "execution_count": null,
   "metadata": {},
   "outputs": [],
   "source": []
  }
 ],
 "metadata": {
  "kernelspec": {
   "display_name": "Python 3",
   "language": "python",
   "name": "python3"
  },
  "language_info": {
   "codemirror_mode": {
    "name": "ipython",
    "version": 3
   },
   "file_extension": ".py",
   "mimetype": "text/x-python",
   "name": "python",
   "nbconvert_exporter": "python",
   "pygments_lexer": "ipython3",
   "version": "3.7.6"
  }
 },
 "nbformat": 4,
 "nbformat_minor": 4
}
